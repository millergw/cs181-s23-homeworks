{
  "cells": [
    {
      "cell_type": "markdown",
      "metadata": {
        "id": "view-in-github",
        "colab_type": "text"
      },
      "source": [
        "<a href=\"https://colab.research.google.com/github/millergw/cs181-s23-homeworks/blob/main/CS181_Practical_I_Alison_Ben_Gwen.ipynb\" target=\"_parent\"><img src=\"https://colab.research.google.com/assets/colab-badge.svg\" alt=\"Open In Colab\"/></a>"
      ]
    },
    {
      "cell_type": "markdown",
      "metadata": {
        "id": "vZzMPfh8HhFX"
      },
      "source": [
        "# Student Starter Code\n",
        "### CS 181 Practical, Spring 2023\n",
        "author: njohnson\n",
        "\n",
        "**Please copy this notebook by clicking \"File\" -> \"Save a Copy in Drive\".**"
      ]
    },
    {
      "cell_type": "markdown",
      "metadata": {
        "id": "E2_H7IBvHuZI"
      },
      "source": [
        "This notebook contains starter code to:\n",
        "\n",
        "\n",
        "*   **Load all of the data files** directly into your Colab runtime from the GCP bucket (so you don't need to download them to your computer!)\n",
        "*   **Install libraries** inline, so you don't need to install them to your computer!\n",
        "\n",
        "\n"
      ]
    },
    {
      "cell_type": "markdown",
      "metadata": {
        "id": "0DKObq2EMWGM"
      },
      "source": [
        "# Before you run this code:\n",
        "\n",
        "1.   **Change your Runtime to use a GPU**: Click \"Runtime\" -> \"Change Runtime Type\", and select \"GPU\".\n",
        "2.   **Stop Colab from disconnecting**:  To prevent Google Colab from disconnecting while you're away,  you can add an auto-click function using the Chrome console Just \"Inspect\", navigate to the \"Console\" and paste in this function:\n",
        "\n",
        "```\n",
        "function ClickConnect(){\n",
        "    console.log(\"Clicked on connect button\"); \n",
        "    document.querySelector(\"#ok\").click()\n",
        "}\n",
        "setInterval(ClickConnect,60000)\n",
        "```\n",
        "\n",
        "\n",
        "\n",
        "\n",
        "\n"
      ]
    },
    {
      "cell_type": "code",
      "execution_count": null,
      "metadata": {
        "id": "rnkY_dv_QYz8"
      },
      "outputs": [],
      "source": [
        "import numpy as np\n",
        "import matplotlib.pyplot as plt\n",
        "# import sklearn modules\n",
        "from sklearn.linear_model import LogisticRegression\n",
        "from sklearn.ensemble import RandomForestClassifier\n",
        "from sklearn.neighbors import NearestNeighbors\n",
        "from sklearn import metrics\n",
        "import sklearn.model_selection as model_selection\n",
        "import sklearn.preprocessing as preprocessing\n",
        "# TODO: add pytorch modules\n",
        "import tqdm # to track progress of loops\n",
        "\n",
        "import logging\n",
        "logging.basicConfig(\n",
        "            format='%(asctime)s %(levelname)-8s %(message)s',\n",
        "            level=logging.INFO,\n",
        "            datefmt='%Y-%m-%d %H:%M:%S')\n",
        "\n",
        "logger = logging.getLogger()\n",
        "logger.setLevel(logging.INFO)\n",
        "\n",
        "%load_ext autoreload\n",
        "%autoreload 2"
      ]
    },
    {
      "cell_type": "markdown",
      "metadata": {
        "id": "PVU_lGLoPwIC"
      },
      "source": [
        "## Load the data files into local memory from the GCP bucket."
      ]
    },
    {
      "cell_type": "code",
      "execution_count": null,
      "metadata": {
        "colab": {
          "base_uri": "https://localhost:8080/"
        },
        "id": "-yA1eCGyMVes",
        "outputId": "23e5ca7c-3008-4f49-eb1b-5258b2a05531"
      },
      "outputs": [
        {
          "name": "stdout",
          "output_type": "stream",
          "text": [
            "Copying gs://cs181_practical_data/Xtrain_amp.npy...\n",
            "/ [0 files][    0.0 B/934.2 MiB]                                                \r==> NOTE: You are downloading one or more large file(s), which would\n",
            "run significantly faster if you enabled sliced object downloads. This\n",
            "feature is enabled by default but requires that compiled crcmod be\n",
            "installed (see \"gsutil help crcmod\").\n",
            "\n",
            "/ [1 files][934.2 MiB/934.2 MiB]                                                \n",
            "Operation completed over 1 objects/934.2 MiB.                                    \n",
            "Copying gs://cs181_practical_data/ytrain_amp.npy...\n",
            "/ [1 files][ 43.5 KiB/ 43.5 KiB]                                                \n",
            "Operation completed over 1 objects/43.5 KiB.                                     \n",
            "Copying gs://cs181_practical_data/Xtest_amp.npy...\n",
            "==> NOTE: You are downloading one or more large file(s), which would\n",
            "run significantly faster if you enabled sliced object downloads. This\n",
            "feature is enabled by default but requires that compiled crcmod be\n",
            "installed (see \"gsutil help crcmod\").\n",
            "\n",
            "- [1 files][369.6 MiB/369.6 MiB]                                                \n",
            "Operation completed over 1 objects/369.6 MiB.                                    \n",
            "Copying gs://cs181_practical_data/ytest_amp.npy...\n",
            "/ [1 files][ 17.3 KiB/ 17.3 KiB]                                                \n",
            "Operation completed over 1 objects/17.3 KiB.                                     \n",
            "Copying gs://cs181_practical_data/Xtrain_mel.npy...\n",
            "==> NOTE: You are downloading one or more large file(s), which would\n",
            "run significantly faster if you enabled sliced object downloads. This\n",
            "feature is enabled by default but requires that compiled crcmod be\n",
            "installed (see \"gsutil help crcmod\").\n",
            "\n",
            "| [1 files][235.9 MiB/235.9 MiB]                                                \n",
            "Operation completed over 1 objects/235.9 MiB.                                    \n",
            "Copying gs://cs181_practical_data/ytrain_mel.npy...\n",
            "/ [1 files][ 43.5 KiB/ 43.5 KiB]                                                \n",
            "Operation completed over 1 objects/43.5 KiB.                                     \n",
            "Copying gs://cs181_practical_data/Xtest_mel.npy...\n",
            "- [1 files][ 93.3 MiB/ 93.3 MiB]                                                \n",
            "Operation completed over 1 objects/93.3 MiB.                                     \n",
            "Copying gs://cs181_practical_data/ytest_mel.npy...\n",
            "/ [1 files][ 17.3 KiB/ 17.3 KiB]                                                \n",
            "Operation completed over 1 objects/17.3 KiB.                                     \n"
          ]
        }
      ],
      "source": [
        "!gsutil cp gs://cs181_practical_data/Xtrain_amp.npy ./\n",
        "!gsutil cp gs://cs181_practical_data/ytrain_amp.npy ./\n",
        "\n",
        "!gsutil cp gs://cs181_practical_data/Xtest_amp.npy ./\n",
        "!gsutil cp gs://cs181_practical_data/ytest_amp.npy ./\n",
        "\n",
        "!gsutil cp gs://cs181_practical_data/Xtrain_mel.npy ./\n",
        "!gsutil cp gs://cs181_practical_data/ytrain_mel.npy ./\n",
        "\n",
        "!gsutil cp gs://cs181_practical_data/Xtest_mel.npy ./\n",
        "!gsutil cp gs://cs181_practical_data/ytest_mel.npy ./"
      ]
    },
    {
      "cell_type": "markdown",
      "metadata": {
        "id": "4vQKC6VJP6Vq"
      },
      "source": [
        "### Load raw amplitude data as a numpy object."
      ]
    },
    {
      "cell_type": "code",
      "execution_count": null,
      "metadata": {
        "id": "EsrrnkJNMUIG"
      },
      "outputs": [],
      "source": [
        "# Load train data\n",
        "\n",
        "X_amp_train = np.load(\"Xtrain_amp.npy\")\n",
        "y_amp_train = np.load(\"ytrain_amp.npy\")"
      ]
    },
    {
      "cell_type": "code",
      "execution_count": null,
      "metadata": {
        "colab": {
          "base_uri": "https://localhost:8080/"
        },
        "id": "AnugjNjwHdsA",
        "outputId": "abdadc13-ce78-427d-d6c4-937c4cd67bc4"
      },
      "outputs": [
        {
          "data": {
            "text/plain": [
              "(5553, 44100)"
            ]
          },
          "execution_count": 4,
          "metadata": {},
          "output_type": "execute_result"
        }
      ],
      "source": [
        "X_amp_train.shape"
      ]
    },
    {
      "cell_type": "code",
      "execution_count": null,
      "metadata": {
        "id": "zwbCZz3uQEdB"
      },
      "outputs": [],
      "source": [
        "# Load test data\n",
        "\n",
        "X_amp_test = np.load(\"Xtest_amp.npy\")\n",
        "y_amp_test = np.load(\"ytest_amp.npy\")"
      ]
    },
    {
      "cell_type": "code",
      "execution_count": null,
      "metadata": {
        "colab": {
          "base_uri": "https://localhost:8080/"
        },
        "id": "0vYPQbnbQGv9",
        "outputId": "e9f69e1d-5964-48f0-874a-81afa97874e3"
      },
      "outputs": [
        {
          "data": {
            "text/plain": [
              "(2197, 44100)"
            ]
          },
          "execution_count": 6,
          "metadata": {},
          "output_type": "execute_result"
        }
      ],
      "source": [
        "X_amp_test.shape"
      ]
    },
    {
      "cell_type": "markdown",
      "metadata": {
        "id": "bOdhs7mQQHcd"
      },
      "source": [
        "### Load Mel spectrogram data as a numpy object."
      ]
    },
    {
      "cell_type": "code",
      "execution_count": null,
      "metadata": {
        "id": "O3DYzdbAQKXq"
      },
      "outputs": [],
      "source": [
        "# Load train data\n",
        "\n",
        "X_mel_train = np.load(\"Xtrain_mel.npy\")\n",
        "y_mel_train = np.load(\"ytrain_mel.npy\")"
      ]
    },
    {
      "cell_type": "code",
      "execution_count": null,
      "metadata": {
        "colab": {
          "base_uri": "https://localhost:8080/"
        },
        "id": "IKFnWtKeQOfs",
        "outputId": "3cce4b8c-293f-4527-ee05-ac44da525417"
      },
      "outputs": [
        {
          "data": {
            "text/plain": [
              "(5553, 128, 87)"
            ]
          },
          "execution_count": 8,
          "metadata": {},
          "output_type": "execute_result"
        }
      ],
      "source": [
        "X_mel_train.shape"
      ]
    },
    {
      "cell_type": "code",
      "execution_count": null,
      "metadata": {
        "colab": {
          "base_uri": "https://localhost:8080/"
        },
        "id": "Bztvdo-hQOyH",
        "outputId": "a85b65ea-a563-4cc6-c1ab-d074e07ee81e"
      },
      "outputs": [
        {
          "data": {
            "text/plain": [
              "(5553, 11136)"
            ]
          },
          "execution_count": 9,
          "metadata": {},
          "output_type": "execute_result"
        }
      ],
      "source": [
        "# Flatten X_mel_train's spectrogram features\n",
        "X_mel_train_flat = X_mel_train.reshape(X_mel_train.shape[0], -1)\n",
        "X_mel_train_flat.shape"
      ]
    },
    {
      "cell_type": "code",
      "execution_count": null,
      "metadata": {
        "id": "9-bNNjLVQQPf"
      },
      "outputs": [],
      "source": [
        "# Load test data\n",
        "\n",
        "X_mel_test = np.load(\"Xtest_mel.npy\")\n",
        "y_mel_test = np.load(\"ytest_mel.npy\")"
      ]
    },
    {
      "cell_type": "code",
      "execution_count": null,
      "metadata": {
        "colab": {
          "base_uri": "https://localhost:8080/"
        },
        "id": "7njgVmbhQSjW",
        "outputId": "ee710c81-5037-4b61-b98d-fc52f7f6c713"
      },
      "outputs": [
        {
          "data": {
            "text/plain": [
              "(2197, 128, 87)"
            ]
          },
          "execution_count": 11,
          "metadata": {},
          "output_type": "execute_result"
        }
      ],
      "source": [
        "X_mel_test.shape"
      ]
    },
    {
      "cell_type": "code",
      "execution_count": null,
      "metadata": {
        "colab": {
          "base_uri": "https://localhost:8080/"
        },
        "id": "bo7kHdrRFdLR",
        "outputId": "42fff55a-480d-4a39-f8fe-224980fef458"
      },
      "outputs": [
        {
          "data": {
            "text/plain": [
              "(2197, 11136)"
            ]
          },
          "execution_count": 12,
          "metadata": {},
          "output_type": "execute_result"
        }
      ],
      "source": [
        "# Flatten X_mel_test's spectrogram features\n",
        "X_mel_test_flat = X_mel_test.reshape(X_mel_test.shape[0], -1)\n",
        "X_mel_test_flat.shape"
      ]
    },
    {
      "cell_type": "markdown",
      "metadata": {
        "id": "xs7vdtploDz0"
      },
      "source": [
        "### Delete an object from local memory.\n",
        "\n",
        "The \"del\" keyword in Python is used to dereference objects from local memory.  You can use it to save memory by getting rid of variables that you don't intend to use anymore.\n",
        "\n",
        "For example, to delete the variable X_mel_train:"
      ]
    },
    {
      "cell_type": "code",
      "execution_count": null,
      "metadata": {
        "id": "IvL9Wt9KoEdC"
      },
      "outputs": [],
      "source": [
        "# del X_mel_train"
      ]
    },
    {
      "cell_type": "markdown",
      "metadata": {
        "id": "a_gzzQ9RQlkK"
      },
      "source": [
        "### Example package installation\n",
        "\n",
        "You can install packages using pip by running lines of code preceded by \"!\".  For example, the below line of code installs the librosa package:"
      ]
    },
    {
      "cell_type": "code",
      "execution_count": null,
      "metadata": {
        "colab": {
          "base_uri": "https://localhost:8080/"
        },
        "id": "kqw1NYi-Qkea",
        "outputId": "84b8692b-0a97-439a-f96c-e45b7cb3afdb"
      },
      "outputs": [
        {
          "name": "stdout",
          "output_type": "stream",
          "text": [
            "Looking in indexes: https://pypi.org/simple, https://us-python.pkg.dev/colab-wheels/public/simple/\n",
            "Requirement already satisfied: librosa in /usr/local/lib/python3.9/dist-packages (0.8.1)\n",
            "Requirement already satisfied: umap in /usr/local/lib/python3.9/dist-packages (0.1.1)\n",
            "Requirement already satisfied: umap-learn in /usr/local/lib/python3.9/dist-packages (0.5.3)\n",
            "Requirement already satisfied: scipy>=1.0.0 in /usr/local/lib/python3.9/dist-packages (from librosa) (1.10.1)\n",
            "Requirement already satisfied: joblib>=0.14 in /usr/local/lib/python3.9/dist-packages (from librosa) (1.1.1)\n",
            "Requirement already satisfied: numba>=0.43.0 in /usr/local/lib/python3.9/dist-packages (from librosa) (0.56.4)\n",
            "Requirement already satisfied: decorator>=3.0.0 in /usr/local/lib/python3.9/dist-packages (from librosa) (4.4.2)\n",
            "Requirement already satisfied: soundfile>=0.10.2 in /usr/local/lib/python3.9/dist-packages (from librosa) (0.12.1)\n",
            "Requirement already satisfied: packaging>=20.0 in /usr/local/lib/python3.9/dist-packages (from librosa) (23.0)\n",
            "Requirement already satisfied: numpy>=1.15.0 in /usr/local/lib/python3.9/dist-packages (from librosa) (1.22.4)\n",
            "Requirement already satisfied: audioread>=2.0.0 in /usr/local/lib/python3.9/dist-packages (from librosa) (3.0.0)\n",
            "Requirement already satisfied: scikit-learn!=0.19.0,>=0.14.0 in /usr/local/lib/python3.9/dist-packages (from librosa) (1.2.2)\n",
            "Requirement already satisfied: resampy>=0.2.2 in /usr/local/lib/python3.9/dist-packages (from librosa) (0.4.2)\n",
            "Requirement already satisfied: pooch>=1.0 in /usr/local/lib/python3.9/dist-packages (from librosa) (1.7.0)\n",
            "Requirement already satisfied: pynndescent>=0.5 in /usr/local/lib/python3.9/dist-packages (from umap-learn) (0.5.8)\n",
            "Requirement already satisfied: tqdm in /usr/local/lib/python3.9/dist-packages (from umap-learn) (4.65.0)\n",
            "Requirement already satisfied: setuptools in /usr/local/lib/python3.9/dist-packages (from numba>=0.43.0->librosa) (63.4.3)\n",
            "Requirement already satisfied: llvmlite<0.40,>=0.39.0dev0 in /usr/local/lib/python3.9/dist-packages (from numba>=0.43.0->librosa) (0.39.1)\n",
            "Requirement already satisfied: platformdirs>=2.5.0 in /usr/local/lib/python3.9/dist-packages (from pooch>=1.0->librosa) (3.1.1)\n",
            "Requirement already satisfied: requests>=2.19.0 in /usr/local/lib/python3.9/dist-packages (from pooch>=1.0->librosa) (2.25.1)\n",
            "Requirement already satisfied: threadpoolctl>=2.0.0 in /usr/local/lib/python3.9/dist-packages (from scikit-learn!=0.19.0,>=0.14.0->librosa) (3.1.0)\n",
            "Requirement already satisfied: cffi>=1.0 in /usr/local/lib/python3.9/dist-packages (from soundfile>=0.10.2->librosa) (1.15.1)\n",
            "Requirement already satisfied: pycparser in /usr/local/lib/python3.9/dist-packages (from cffi>=1.0->soundfile>=0.10.2->librosa) (2.21)\n",
            "Requirement already satisfied: idna<3,>=2.5 in /usr/local/lib/python3.9/dist-packages (from requests>=2.19.0->pooch>=1.0->librosa) (2.10)\n",
            "Requirement already satisfied: urllib3<1.27,>=1.21.1 in /usr/local/lib/python3.9/dist-packages (from requests>=2.19.0->pooch>=1.0->librosa) (1.26.15)\n",
            "Requirement already satisfied: certifi>=2017.4.17 in /usr/local/lib/python3.9/dist-packages (from requests>=2.19.0->pooch>=1.0->librosa) (2022.12.7)\n",
            "Requirement already satisfied: chardet<5,>=3.0.2 in /usr/local/lib/python3.9/dist-packages (from requests>=2.19.0->pooch>=1.0->librosa) (4.0.0)\n"
          ]
        }
      ],
      "source": [
        "! pip install librosa umap umap-learn"
      ]
    },
    {
      "cell_type": "code",
      "execution_count": null,
      "metadata": {
        "colab": {
          "base_uri": "https://localhost:8080/"
        },
        "id": "APTaS9L1QvAy",
        "outputId": "c776f93d-3bbb-4b30-e577-7f36881b4451"
      },
      "outputs": [
        {
          "name": "stderr",
          "output_type": "stream",
          "text": [
            "INFO:numexpr.utils:NumExpr defaulting to 2 threads.\n"
          ]
        }
      ],
      "source": [
        "# After you've installed a package, you can import it\n",
        "import librosa\n",
        "from sklearn.model_selection import GridSearchCV\n",
        "import umap"
      ]
    },
    {
      "cell_type": "markdown",
      "metadata": {
        "id": "MsfvDxNRCVKs"
      },
      "source": [
        "# Ben's code\n",
        "- Logistic regression on raw amp. Features\n",
        "- One nonlinear model – Random Forest"
      ]
    },
    {
      "cell_type": "markdown",
      "metadata": {
        "id": "HgVehMLA3T0A"
      },
      "source": [
        "- Perhaps elastic net regularization, compatible with the 'saga' solver, is best?\n",
        "- We may want to implement k-fold cross validation for hyperparameter tuning"
      ]
    },
    {
      "cell_type": "markdown",
      "metadata": {
        "id": "nGNclCnF_P66"
      },
      "source": [
        "Structure & clustering of dataset with UMAP:"
      ]
    },
    {
      "cell_type": "code",
      "execution_count": null,
      "metadata": {
        "colab": {
          "background_save": true
        },
        "id": "lmHuRuSQ_PXi",
        "outputId": "dd89ae87-592c-4338-c468-2db0c79f6bcc"
      },
      "outputs": [
        {
          "data": {
            "image/png": "[encoded data removed]",
            "text/plain": [
              "<Figure size 432x288 with 1 Axes>"
            ]
          },
          "metadata": {},
          "output_type": "display_data"
        }
      ],
      "source": [
        "# Function for plotting UMAP:\n",
        "\n",
        "def UMAP_plotter(dataset, labels, title):\n",
        "  umap_model = umap.UMAP()\n",
        "  umap_amplitudes = umap_model.fit_transform(dataset)\n",
        "  plt.scatter(umap_amplitudes[:,0], umap_amplitudes[:,1], c=labels)\n",
        "  plt.title(title)\n",
        "\n",
        "# UMAP for training dataset:\n",
        "\n",
        "UMAP_plotter(X_amp_train, y_amp_train, \"UMAP - Raw Amplitudes - Training Dataset:\")\n",
        "\n",
        "# UMAP for test dataset:\n",
        "\n",
        "UMAP_plotter(X_amp_test, y_amp_test, \"UMAP - Raw Amplitudes - Test Dataset:\")\n"
      ]
    },
    {
      "cell_type": "markdown",
      "metadata": {
        "id": "y48PH9xJ-ehP"
      },
      "source": [
        "Logistic Regression with Elastic Net Regularization:"
      ]
    },
    {
      "cell_type": "code",
      "execution_count": null,
      "metadata": {
        "id": "7Nob3i4RQxpl"
      },
      "outputs": [],
      "source": [
        "logReg_rawAmp = LogisticRegression(solver='saga', penalty='elasticnet')\n",
        "\n",
        "params = {'l1_ratio':[0, 0.5, 1]}\n",
        "\n",
        "logReg_rawAmp_kfcv = GridSearchCV(estimator=logReg_rawAmp, param_grid=params)\n",
        "\n",
        "logReg_rawAmp_kfcv.fit(X_amp_train, y_amp_train)\n",
        "\n",
        "print(\"Best model parameters for LogReg with EN Regularization:\")\n",
        "\n",
        "print(logReg_rawAmp_kfcv.best_params_)\n",
        "\n",
        "print(\"Assessing accuracy of fitted model on the test dataset:\")\n",
        "\n",
        "logReg_rawAmp_kfcv.score(X_amp_test, y_amp_test)"
      ]
    },
    {
      "cell_type": "markdown",
      "metadata": {
        "id": "IcyXUcxPAzCD"
      },
      "source": [
        "Nonlinear model - Random Forest:"
      ]
    },
    {
      "cell_type": "code",
      "execution_count": null,
      "metadata": {
        "id": "Z42F4BiD0CD3"
      },
      "outputs": [],
      "source": [
        "\n"
      ]
    },
    {
      "cell_type": "markdown",
      "metadata": {
        "id": "Fwv5W0UYCXeh"
      },
      "source": [
        "# Gwen's code\n",
        "- Logistic regression on Mel spectrogram features (TODO: since this is multiclass, shouldn't we do softmax?)\n",
        "- One nonlinear model - probably a NN (or doing PCA dim reduction followed by a simpler model like Random Forest or logistic regression, though I'm not sure the latter would be \"non-linear\" even with the PCA dim reduction)\n",
        "\n",
        "\n",
        "## Ideas/considerations\n",
        "- might want to do min/max scaling (vs z-standardization) on the datasets. This will help preserve relative sounds without amplifying background noises (and will prevent issues where someone screaming could be classified as a gunshot just because it's loud)"
      ]
    },
    {
      "cell_type": "code",
      "execution_count": null,
      "metadata": {
        "id": "n3KlsMkTHNkI"
      },
      "outputs": [],
      "source": [
        "# checking for class imbalance in the training dataset\n",
        "_, mel_n_per_class = np.unique(y_mel_train, return_counts = True)\n",
        "print(f\"We have this many samples per class in the Mel training: \\n{mel_n_per_class}\")\n",
        "\n",
        "# TODO: since we have some class imbalance (e.g. class ID 6 only has 83 samples) we might want to do some re-sampling to generate the training dset"
      ]
    },
    {
      "cell_type": "code",
      "execution_count": null,
      "metadata": {
        "id": "0Sk0PG1fRUp9"
      },
      "outputs": [],
      "source": [
        "UMAP_plotter(X_mel_train_flat, y_mel_train, \"UMAP - Raw Mel - Training Dataset:\")\n",
        "\n",
        "print(\"Pre-process the mel data with min/max solver to each sample is between 0 and 1\")\n",
        "scaler = preprocessing.MinMaxScaler()\n",
        "X_mel_train_flat = scaler.fit_transform(X_mel_train_flat)"
      ]
    },
    {
      "cell_type": "code",
      "execution_count": null,
      "metadata": {
        "id": "kK3UQTHS0rnk"
      },
      "outputs": [],
      "source": [
        "UMAP_plotter(X_mel_train_flat, y_mel_train, \"UMAP - MinMax transformed Mel - Training Dataset:\")\n"
      ]
    },
    {
      "cell_type": "code",
      "execution_count": null,
      "metadata": {
        "id": "tl2Kwc-0LnT5"
      },
      "outputs": [],
      "source": [
        "print(\"Split mel training dset into train and validation sets\")\n",
        "X_mel_train_split, X_mel_val_split, y_mel_train_split, y_mel_val_split = model_selection.train_test_split(X_mel_train_flat, y_mel_train, test_size=0.2, random_state=42)\n",
        "\n",
        "print(f\"Mel train split shape: {X_mel_train_split.shape}\")\n",
        "print(f\"Mel val split shape: {X_mel_val_split.shape}\")"
      ]
    },
    {
      "cell_type": "code",
      "execution_count": null,
      "metadata": {
        "id": "fMUpZlLbHUaM"
      },
      "outputs": [],
      "source": [
        "mel_logistic_clf = LogisticRegression(penalty='l1', \n",
        "                                  multi_class='multinomial', solver='saga',\n",
        "                                  max_iter=10000) \n",
        "mel_logistic_clf.fit(X_mel_train_split, y_mel_train_split)"
      ]
    },
    {
      "cell_type": "markdown",
      "metadata": {
        "id": "skrwPPDHCbun"
      },
      "source": [
        "# Alison's code\n",
        "- One nonlinear model - KNN"
      ]
    },
    {
      "cell_type": "code",
      "execution_count": null,
      "metadata": {
        "id": "Og-p6J1aCZOV"
      },
      "outputs": [],
      "source": []
    }
  ],
  "metadata": {
    "accelerator": "GPU",
    "colab": {
      "provenance": [],
      "include_colab_link": true
    },
    "gpuClass": "standard",
    "kernelspec": {
      "display_name": "Python 3",
      "name": "python3"
    },
    "language_info": {
      "name": "python"
    }
  },
  "nbformat": 4,
  "nbformat_minor": 0
}