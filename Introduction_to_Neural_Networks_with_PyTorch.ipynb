{
  "cells": [
    {
      "cell_type": "markdown",
      "metadata": {
        "id": "view-in-github",
        "colab_type": "text"
      },
      "source": [
        "<a href=\"https://colab.research.google.com/github/millergw/cs181-s23-homeworks/blob/main/Introduction_to_Neural_Networks_with_PyTorch.ipynb\" target=\"_parent\"><img src=\"https://colab.research.google.com/assets/colab-badge.svg\" alt=\"Open In Colab\"/></a>"
      ]
    },
    {
      "cell_type": "markdown",
      "source": [
        "# Introduction to PyTorch\n",
        "### CS181\n",
        "### Spring 2023\n",
        "![](https://i.imgur.com/xDR9VQd.png)\n",
        "\n",
        "**About:** This notebook will introduce you to a popular and powerful python library for deep learning called [PyTorch](https://pytorch.org/). Pytorch will allow you to \n",
        "1. specify a **model** (e.g. linear regression, logistic regression, neural network, etc.)\n",
        "2. specify a **loss function** (i.e. a metric that quantifies \"how well\" our model fits our data)\n",
        "3. given data, **optimize** this loss function relative to our model (i.e. to fit the model to the data by finding a model that minimizes the loss function). \n",
        "\n",
        "**Agenda:**\n",
        "1. Tensors: We'll start by introducing PyTorch's `tensor`, the data structure PyTorch is built on. \n",
        "2. Loss functions & optimizers: Using these tensors, we'll show you how to specify loss functions and optimize them.\n",
        "3. Putting it all together: We'll use everything covered in this tutorial to build and train a deep neural network. \n",
        "\n",
        "**Note:** This tutorial is not a comprehensive of everything available in the PyTorch library. Once you have a sense of what this library can do, we recommend you browse the [documentation](https://pytorch.org/docs/stable/index.html). "
      ],
      "metadata": {
        "tags": [],
        "cell_id": "7b07d2f098914fd6b4e7b7ad51d8af25",
        "deepnote_cell_type": "markdown",
        "id": "EdeNtJ6tR-rC"
      }
    },
    {
      "cell_type": "code",
      "source": [
        "# Before we start, we have to import PyTorch:\n",
        "import torch\n",
        "import torch.nn as nn\n",
        "import torch.optim as optim\n",
        "\n",
        "# We'll also import some other helpful libraries\n",
        "import numpy as np\n",
        "import matplotlib\n",
        "import matplotlib.pylab as plt\n",
        "import sklearn\n",
        "import sklearn.datasets"
      ],
      "metadata": {
        "tags": [],
        "cell_id": "843e0f5c965e4179a3bff86a2d94976a",
        "source_hash": "83b47263",
        "execution_start": 1674421770581,
        "execution_millis": 2614,
        "deepnote_to_be_reexecuted": false,
        "deepnote_cell_type": "code",
        "id": "M3L3aqRxR-rE"
      },
      "outputs": [],
      "execution_count": null
    },
    {
      "cell_type": "markdown",
      "source": [
        "## Part 1: Tensors\n",
        "\n",
        "PyTorch is built on a data structure called a `tensor`. While it sounds fancy, it is in fact no different than any array-like data structure you have encountered so far in your CS courses. So if it's no different, why use it as opposed to other array-like data structures in Python? Because unlike other such data structures, in PyTorch, tensors will allow us to compute gradients and perform optimization -- we'll get to that in Part 2 of this tutorial. \n",
        "\n",
        "#### Creating tensors\n",
        "\n",
        "So let's begin by specifying a tensor. We can do this in a number of ways:"
      ],
      "metadata": {
        "tags": [],
        "cell_id": "25efaa151723411e8c7ab102250e6fc4",
        "deepnote_cell_type": "markdown",
        "id": "CNB5BYe9R-rF"
      }
    },
    {
      "cell_type": "code",
      "source": [
        "# We can create a tensor from a list:\n",
        "a = torch.tensor([[1.0, 2.0, 3.0], [4.0, 5.0, 6.0]])\n",
        "print('A =', a)\n",
        "\n",
        "# We can create a tensor from a numpy array:\n",
        "b = torch.tensor(np.array([[1.0, 2.0, 3.0], [4.0, 5.0, 6.0]]))\n",
        "print('B =', b)\n",
        "\n",
        "# We can create a tensor of random values with a size 2 by 2:\n",
        "c = torch.randn((2, 2))\n",
        "print('C =', c)\n",
        "\n",
        "# We can create a tensor of ones with a size 1 by 1:\n",
        "d = torch.ones((1, 1))\n",
        "print('D =', d)"
      ],
      "metadata": {
        "tags": [],
        "cell_id": "cc9126b359ab46f0be9eb46631b3a392",
        "source_hash": "8512cc1f",
        "execution_start": 1674421773199,
        "execution_millis": 5,
        "deepnote_to_be_reexecuted": false,
        "deepnote_cell_type": "code",
        "id": "kqA7y1nNR-rG",
        "outputId": "225b3172-b415-427f-c6be-e120d889e455",
        "colab": {
          "base_uri": "https://localhost:8080/"
        }
      },
      "outputs": [
        {
          "output_type": "stream",
          "name": "stdout",
          "text": [
            "A = tensor([[1., 2., 3.],\n",
            "        [4., 5., 6.]])\n",
            "B = tensor([[1., 2., 3.],\n",
            "        [4., 5., 6.]], dtype=torch.float64)\n",
            "C = tensor([[ 0.3285,  0.7973],\n",
            "        [-1.3326,  0.9980]])\n",
            "D = tensor([[1.]])\n"
          ]
        }
      ],
      "execution_count": null
    },
    {
      "cell_type": "markdown",
      "source": [
        "We can also convert these PyTorch tensors back to numpy arrays or lists:"
      ],
      "metadata": {
        "tags": [],
        "cell_id": "3c77adda94e74790a855dc9789475f6c",
        "deepnote_cell_type": "markdown",
        "id": "1RpTcw6CR-rH"
      }
    },
    {
      "cell_type": "code",
      "source": [
        "print('A (as a numpy array) =', a.numpy())\n",
        "\n",
        "print('B (as a list) =', a.tolist())\n",
        "\n",
        "# When a tensor is 1x1, we can also get it from PyTorch as follows:\n",
        "print('D (as a float) =', d.item())"
      ],
      "metadata": {
        "tags": [],
        "cell_id": "668e9e561d3c481882a026ae37bcb1e1",
        "source_hash": "c71e4f5a",
        "execution_start": 1674421773231,
        "execution_millis": 3,
        "deepnote_to_be_reexecuted": false,
        "deepnote_cell_type": "code",
        "id": "WioewAk1R-rI",
        "outputId": "cfcb79ea-1b75-4c36-eab3-7ddb494cce6b",
        "colab": {
          "base_uri": "https://localhost:8080/"
        }
      },
      "outputs": [
        {
          "output_type": "stream",
          "name": "stdout",
          "text": [
            "A (as a numpy array) = [[1. 2. 3.]\n",
            " [4. 5. 6.]]\n",
            "B (as a list) = [[1.0, 2.0, 3.0], [4.0, 5.0, 6.0]]\n",
            "D (as a float) = 1.0\n"
          ]
        }
      ],
      "execution_count": null
    },
    {
      "cell_type": "markdown",
      "source": [
        "Tensors generally have two properties: `shape` (describing how many elements are in the tensor) and `type` (describing whether the elements are floats, ints, etc.): "
      ],
      "metadata": {
        "tags": [],
        "cell_id": "2eef5f9fee03468592c619a230274cf3",
        "deepnote_cell_type": "markdown",
        "id": "h_93jWE6R-rJ"
      }
    },
    {
      "cell_type": "code",
      "source": [
        "print('A.shape =', a.shape)\n",
        "print('A.dtype =', a.dtype)"
      ],
      "metadata": {
        "tags": [],
        "cell_id": "8895b278aab04d968a137fe2d9b52cb6",
        "source_hash": "c8e4f469",
        "execution_start": 1674421773232,
        "execution_millis": 2,
        "deepnote_to_be_reexecuted": false,
        "deepnote_cell_type": "code",
        "id": "OTgOk8TWR-rJ",
        "outputId": "2e0da06e-45ef-4f15-920c-90c982ab17ac",
        "colab": {
          "base_uri": "https://localhost:8080/"
        }
      },
      "outputs": [
        {
          "output_type": "stream",
          "name": "stdout",
          "text": [
            "A.shape = torch.Size([2, 3])\n",
            "A.dtype = torch.float32\n"
          ]
        }
      ],
      "execution_count": null
    },
    {
      "cell_type": "markdown",
      "source": [
        "#### Operating on tensors\n",
        "\n",
        "Tensors can largely be operated on in the same way as numpy arrays (in case you're familiar with numpy)."
      ],
      "metadata": {
        "tags": [],
        "cell_id": "af6456e515a347558b40548a9e3d6676",
        "deepnote_cell_type": "markdown",
        "id": "SY0roac2R-rK"
      }
    },
    {
      "cell_type": "code",
      "source": [
        "# One can index into a tensor as follows:\n",
        "print('Entry (0, 1) of A =', a[0, 1])\n",
        "print('Row 1 of A =', a[1])\n",
        "print('')\n",
        "\n",
        "# One can apply tensor-scalar operations, like multiplying or adding to a tensor by a constant:\n",
        "print('3 * A =', 3.0 * a)\n",
        "print('5 + A =', 5.0 + a)\n",
        "print('')\n",
        "\n",
        "# One can apply tensor-tensor operations:\n",
        "print('Element-wise addition: A + A =', a + a)\n",
        "print('Element-wise exponentiation: A^2 =', torch.pow(a, 2.0))\n",
        "print('Matrix multiplication: A^T * A =', torch.mm(a.t(), a))"
      ],
      "metadata": {
        "tags": [],
        "cell_id": "860d20c7952a4a278041e6f546596476",
        "source_hash": "e1a90e11",
        "execution_start": 1674421773232,
        "execution_millis": 3,
        "deepnote_to_be_reexecuted": false,
        "deepnote_cell_type": "code",
        "id": "_83Qn5FUR-rL",
        "outputId": "04ef8a83-665a-4269-8214-9c3d8924ee12",
        "colab": {
          "base_uri": "https://localhost:8080/"
        }
      },
      "outputs": [
        {
          "output_type": "stream",
          "name": "stdout",
          "text": [
            "Entry (0, 1) of A = tensor(2.)\n",
            "Row 1 of A = tensor([4., 5., 6.])\n",
            "\n",
            "3 * A = tensor([[ 3.,  6.,  9.],\n",
            "        [12., 15., 18.]])\n",
            "5 + A = tensor([[ 6.,  7.,  8.],\n",
            "        [ 9., 10., 11.]])\n",
            "\n",
            "Element-wise addition: A + A = tensor([[ 2.,  4.,  6.],\n",
            "        [ 8., 10., 12.]])\n",
            "Element-wise exponentiation: A^2 = tensor([[ 1.,  4.,  9.],\n",
            "        [16., 25., 36.]])\n",
            "Matrix multiplication: A^T * A = tensor([[17., 22., 27.],\n",
            "        [22., 29., 36.],\n",
            "        [27., 36., 45.]])\n"
          ]
        }
      ],
      "execution_count": null
    },
    {
      "cell_type": "markdown",
      "source": [
        "...you get the idea. See the [documentation](https://pytorch.org/docs/stable/tensors.html) for a complete list of all operations, tensor types, etc.\n",
        "\n",
        "Now that we know how to create and operate on tensors, we'll start using them to solve actual optimization problems."
      ],
      "metadata": {
        "tags": [],
        "cell_id": "f08ea6457ed14d808269c188c6f0f725",
        "deepnote_cell_type": "markdown",
        "id": "3u_a2f4KR-rM"
      }
    },
    {
      "cell_type": "markdown",
      "source": [
        "## Part 2: Loss Functions and Optimization\n",
        "\n",
        "We'll know show you how to specify arbitrary functions $f$ using tensors and minimize these functions relative to some set of parameters $W$:\n",
        "$$\n",
        "\\min_W f(W)\n",
        "$$\n",
        "Later this tutorial, we'll show you how to make $f$ into a \"loss function\" for a model -- that is, to make $f$ evaluate \"how well\" our model fits the data.\n",
        "\n",
        "We'll start by defining some function $f$, to be minimized. So long as $f$ accepts a tensor, and uses tensor operations to output a single-valued tensor, we'll be able to optimize $f$ (i.e. so long as $f: \\mathbb{R}^D \\rightarrow \\mathbb{R}$).\n",
        "\n",
        "Let's start with $f(w_0, w_1) = w_0^2 + 0.1 \\cdot w_1^4$:"
      ],
      "metadata": {
        "tags": [],
        "cell_id": "0fb5635988fc4bb8beddd2155bc61596",
        "deepnote_cell_type": "markdown",
        "id": "vBQmjw0AR-rM"
      }
    },
    {
      "cell_type": "code",
      "source": [
        "def f(W):\n",
        "    return torch.pow(W[0], 2.0) + 0.1 * torch.pow(W[1], 4.0)"
      ],
      "metadata": {
        "tags": [],
        "cell_id": "2bcae3fc056e4cd5b522b5bad2e1956d",
        "source_hash": "1fc93f41",
        "execution_start": 1674421773235,
        "execution_millis": 1,
        "deepnote_to_be_reexecuted": false,
        "deepnote_cell_type": "code",
        "id": "whMB-eD3R-rN"
      },
      "outputs": [],
      "execution_count": null
    },
    {
      "cell_type": "markdown",
      "source": [
        "Now that we defined $f$, let's defined $W$ in such a way that PyTorch will be able to optimize $f$ relative to it. We'll do this by creating $W$ as a `tensor`, and wrapping it by the PyTorch object `nn.Parameter` to let PyTorch know it's a parameter we'd like to optimize relative to:"
      ],
      "metadata": {
        "tags": [],
        "cell_id": "1687d04eb1514b39a6043dcb403bfeef",
        "deepnote_cell_type": "markdown",
        "id": "N-Xc0NAVR-rO"
      }
    },
    {
      "cell_type": "code",
      "source": [
        "# Here we chose to initialize W to [1.0, 2.0].\n",
        "# In practice we often initialize model parameters randomly.\n",
        "# The \"requires_grad\" flag is set to enable optimization.\n",
        "W = nn.Parameter(torch.tensor([1.0, 2.0]), requires_grad=True)"
      ],
      "metadata": {
        "tags": [],
        "cell_id": "68bca4c41ff244eabfe6c833d03a5ecd",
        "source_hash": "592e377f",
        "execution_start": 1674421773280,
        "execution_millis": 0,
        "deepnote_to_be_reexecuted": false,
        "deepnote_cell_type": "code",
        "id": "WtDATtCNR-rO"
      },
      "outputs": [],
      "execution_count": null
    },
    {
      "cell_type": "markdown",
      "source": [
        "Lastly, we'll create an `optimizer`, which will do the actual minimization as follows:\n",
        "\n"
      ],
      "metadata": {
        "tags": [],
        "cell_id": "0f72719bf8c74595bae014bb13ea83fd",
        "deepnote_cell_type": "markdown",
        "id": "cM8RKKtAR-rP"
      }
    },
    {
      "cell_type": "code",
      "source": [
        "W = nn.Parameter(torch.tensor([1.0, 2.0]), requires_grad=True)\n",
        "\n",
        "# We create an optimizer, SGD (stochastic gradient descent)\n",
        "# We tell it to optimize relative to W, with a learning rate of 0.01\n",
        "optimizer = optim.SGD([W], lr=0.01)\n",
        "\n",
        "history = []\n",
        "for step in range(1000):\n",
        "    # We zero out any gradients that may have been previously computed relative to W\n",
        "    optimizer.zero_grad()\n",
        "\n",
        "    # We call our loss function\n",
        "    loss = f(W)\n",
        "\n",
        "    history.append(loss.item())\n",
        "\n",
        "    # We print the loss every 100th iteration\n",
        "    if step % 100 == 0:\n",
        "        print('Step {}: loss = {}'.format(step, loss.item()))\n",
        "\n",
        "    # We compute gradients of the loss function, f, relative to W\n",
        "    loss.backward()\n",
        "\n",
        "    # We take a single step in the direction that minimizes the loss\n",
        "    optimizer.step()\n",
        "\n",
        "plt.plot(np.arange(len(history)), history)\n",
        "plt.xlabel('Step')\n",
        "plt.ylabel('Loss')\n",
        "plt.title('Loss vs. training step')\n",
        "plt.show()"
      ],
      "metadata": {
        "tags": [],
        "cell_id": "3e9f1c50daaf4101a6aa175487853a7a",
        "source_hash": "6516ed15",
        "execution_start": 1674421773280,
        "execution_millis": 406,
        "deepnote_to_be_reexecuted": false,
        "deepnote_cell_type": "code",
        "id": "_7sJr6T4R-rQ",
        "outputId": "c29de168-d9b1-4270-f366-bd70a57e2d77",
        "colab": {
          "base_uri": "https://localhost:8080/",
          "height": 474
        }
      },
      "outputs": [
        {
          "output_type": "stream",
          "name": "stdout",
          "text": [
            "Step 0: loss = 2.5999999046325684\n",
            "Step 100: loss = 0.10680253058671951\n",
            "Step 200: loss = 0.029148681089282036\n",
            "Step 300: loss = 0.014093243516981602\n",
            "Step 400: loss = 0.00832502730190754\n",
            "Step 500: loss = 0.005492059048265219\n",
            "Step 600: loss = 0.0038931798189878464\n",
            "Step 700: loss = 0.0029031545855104923\n",
            "Step 800: loss = 0.0022479014005512\n",
            "Step 900: loss = 0.001791867078281939\n"
          ]
        },
        {
          "output_type": "display_data",
          "data": {
            "text/plain": [
              "<Figure size 432x288 with 1 Axes>"
            ],
            "image/png": "[encoded data removed]"
          },
          "metadata": {
            "needs_background": "light"
          }
        }
      ],
      "execution_count": null
    },
    {
      "cell_type": "markdown",
      "source": [
        "As you can see, the above code succesfully minimized $f$ relative to $W$."
      ],
      "metadata": {
        "tags": [],
        "cell_id": "38c75b59095a4ad2b39716c6232303a3",
        "deepnote_cell_type": "markdown",
        "id": "-_fUryBbR-rR"
      }
    },
    {
      "cell_type": "markdown",
      "source": [
        "## Part 3: Models\n",
        "\n",
        "Now that you know how to create tensors, specify a function using these tensors, and optimize it relative to a set of parameters, the next step is to build a model and fit it. \n",
        "\n",
        "#### Neural Network Regression\n",
        "\n",
        "Here, we'll train a create a neural network regressor that maps a 1-dimensional input $x$ to a 1-dimensional output $y$.\n",
        "\n",
        "We'll use the following data-set:"
      ],
      "metadata": {
        "tags": [],
        "cell_id": "025c19a0cf5840b7b696a0276c446219",
        "deepnote_cell_type": "markdown",
        "id": "58N7hxVkR-rS"
      }
    },
    {
      "cell_type": "code",
      "source": [
        "X = torch.linspace(-1.0, 1.0, 100).unsqueeze(-1)\n",
        "Y = torch.sin(X * 2.0 * np.pi) - 2.0 * torch.pow(X, 2.0) + X\n",
        "\n",
        "plt.scatter(X.numpy(), Y.numpy())\n",
        "plt.xlabel('$x$')\n",
        "plt.ylabel('$y$')\n",
        "plt.title('Training Data')\n",
        "plt.show()"
      ],
      "metadata": {
        "tags": [],
        "cell_id": "5c81205bcba54479be0a7c896cd0def0",
        "source_hash": "8513dc04",
        "execution_start": 1674421773728,
        "execution_millis": 153,
        "deepnote_to_be_reexecuted": false,
        "deepnote_cell_type": "code",
        "id": "kcgXnvBgR-rS",
        "outputId": "2ea41aeb-c875-4eff-b045-a9f4b84eeb85",
        "colab": {
          "base_uri": "https://localhost:8080/",
          "height": 295
        }
      },
      "outputs": [
        {
          "output_type": "display_data",
          "data": {
            "text/plain": [
              "<Figure size 432x288 with 1 Axes>"
            ],
            "image/png": "[encoded data removed]"
          },
          "metadata": {
            "needs_background": "light"
          }
        }
      ],
      "execution_count": null
    },
    {
      "cell_type": "markdown",
      "source": [
        "In PyTorch, one usually specifies a model by extending the `nn.Module` class, as follows:\n",
        "```\n",
        "class NeuralNetworkRegressor(nn.Module):\n",
        "    def __init__(self):\n",
        "        super(NeuralNetworkRegressor, self).__init__()\n",
        "\n",
        "        # TODO create neural network\n",
        "\n",
        "    def forward(self, x):\n",
        "        # TODO implement forward-pass\n",
        "```\n",
        "\n",
        "In the constructor of this class (i.e. inside `__init__` ), we'll initialize the parameters of the neural network, and in `forward`, we'll use these parameters to transform an input $x$ into $y$. Recall that a neural network consists of a sequence of operations -- a linear transform, followed by some activation function (e.g. tanh), following by a linear operation, and so on depending on the depth of the network."
      ],
      "metadata": {
        "tags": [],
        "cell_id": "52abf64ade234282aaf032e8bee109a4",
        "deepnote_cell_type": "markdown",
        "id": "dIgFoG_MR-rT"
      }
    },
    {
      "cell_type": "code",
      "source": [
        "class NeuralNetworkRegressor(nn.Module):\n",
        "    def __init__(self):\n",
        "        '''\n",
        "        Creates a neural network with 2 hidden layers, each 20 units in size.\n",
        "        It does this by creating the three linear transform that will be used.\n",
        "        Each one of the nn.Linear objects below will automatically create the nn.Parameter objects\n",
        "        necessary for the linear transform\n",
        "        '''\n",
        "        super(NeuralNetworkRegressor, self).__init__()\n",
        "\n",
        "        \n",
        "        self.layer1 = nn.Linear(1, 20) \n",
        "        self.layer2 = nn.Linear(20, 20) \n",
        "        self.layer3 = nn.Linear(20, 1) \n",
        "\n",
        "    def forward(self, x):\n",
        "        '''\n",
        "        Interleave the linear transforms with an activation function (in this case, tanh)\n",
        "        '''\n",
        "        h1 = torch.tanh(self.layer1(x))\n",
        "        h2 = torch.tanh(self.layer2(h1))\n",
        "        h3 = self.layer3(h2)\n",
        "        return h3\n",
        "\n",
        "\n",
        "# By creating and printing the model, we can see what nn.Parameter objects were created for it:\n",
        "model = NeuralNetworkRegressor()\n",
        "print(model)"
      ],
      "metadata": {
        "tags": [],
        "cell_id": "7f92470b857a445dafccbb4dc0536cd9",
        "source_hash": "3c6c3d2e",
        "execution_start": 1674421773879,
        "execution_millis": 8,
        "deepnote_to_be_reexecuted": false,
        "deepnote_cell_type": "code",
        "id": "Ip5QibsxR-rU",
        "outputId": "aa44eab0-6144-4fab-bf28-915637a1a77f",
        "colab": {
          "base_uri": "https://localhost:8080/"
        }
      },
      "outputs": [
        {
          "output_type": "stream",
          "name": "stdout",
          "text": [
            "NeuralNetworkRegressor(\n",
            "  (layer1): Linear(in_features=1, out_features=20, bias=True)\n",
            "  (layer2): Linear(in_features=20, out_features=20, bias=True)\n",
            "  (layer3): Linear(in_features=20, out_features=1, bias=True)\n",
            ")\n"
          ]
        }
      ],
      "execution_count": null
    },
    {
      "cell_type": "markdown",
      "source": [
        "Now that we created a PyTorch model, let's specify a loss function to train it. We'll create a loss function that penalizes the squared distance between the true labels and the predicted labels:\n",
        "$$\n",
        "\\min_W \\frac{1}{N} \\sum\\limits_{n=1}^N \\left( y_n - \\text{NeuralNetwork}(x_n; W) \\right)^2\n",
        "$$\n",
        "where $N$ is the number of data points, $(x_n, y_n)$ is the $n$th observation, and $\\text{NeuralNetwork}(x_n; W)$ refers to the prediction of the neural network at $x_n$. In PyToch, this looks like this:"
      ],
      "metadata": {
        "tags": [],
        "cell_id": "ac81166f9edf4df9ae05d7e68db8cf5d",
        "deepnote_cell_type": "markdown",
        "id": "6VIExDCWR-rV"
      }
    },
    {
      "cell_type": "code",
      "source": [
        "def loss_fn(model, X, Y):\n",
        "    return torch.mean(torch.pow(Y - model.forward(X), 2.0))"
      ],
      "metadata": {
        "tags": [],
        "cell_id": "30f4d0d039f34ada882428b27f67235a",
        "source_hash": "580b0e5c",
        "execution_start": 1674421773886,
        "execution_millis": 12,
        "deepnote_to_be_reexecuted": false,
        "deepnote_cell_type": "code",
        "id": "qnjNUVQ7R-rW"
      },
      "outputs": [],
      "execution_count": null
    },
    {
      "cell_type": "markdown",
      "source": [
        "Now that we have a model and loss function, we replicate the above code to optimize the loss function relative to the model's parameters (which we access via `model.parameters()`)."
      ],
      "metadata": {
        "tags": [],
        "cell_id": "c4dba5b00b634b40a1c9a7adfe779678",
        "deepnote_cell_type": "markdown",
        "id": "sHYM9dmnR-rW"
      }
    },
    {
      "cell_type": "code",
      "source": [
        "model = NeuralNetworkRegressor()\n",
        "\n",
        "# We create an optimizer, SGD (stochastic gradient descent)\n",
        "# We tell it to optimize the loss function relative to the model's parameters\n",
        "optimizer = optim.SGD(model.parameters(), lr=0.005)\n",
        "\n",
        "history = []\n",
        "for step in range(50000):\n",
        "    # We zero out any gradients that may have been previously computed relative to W\n",
        "    optimizer.zero_grad()\n",
        "\n",
        "    # We call our loss function\n",
        "    loss = loss_fn(model, X, Y)\n",
        "\n",
        "    history.append(loss.item())\n",
        "\n",
        "    # We print the loss every 1000th iteration\n",
        "    if step % 1000 == 0:\n",
        "        print('Step {}: loss = {}'.format(step, loss.item()))\n",
        "\n",
        "    # We compute gradients of the loss function, f, relative to W\n",
        "    loss.backward()\n",
        "\n",
        "    # We take a single step in the direction that minimizes the loss\n",
        "    optimizer.step()\n",
        "\n",
        "plt.plot(np.arange(len(history)), history)\n",
        "plt.xlabel('Step')\n",
        "plt.ylabel('Loss')\n",
        "plt.title('Loss vs. training step')\n",
        "plt.show()"
      ],
      "metadata": {
        "tags": [],
        "cell_id": "a845ff762f7e4541ac624fec3df9df8f",
        "source_hash": "d70645f0",
        "execution_start": 1674421773899,
        "execution_millis": 16790,
        "deepnote_to_be_reexecuted": false,
        "deepnote_cell_type": "code",
        "id": "W615DLvmR-rX",
        "outputId": "837c31de-39eb-441c-defc-7076fe8835ad",
        "colab": {
          "base_uri": "https://localhost:8080/",
          "height": 1000
        }
      },
      "outputs": [
        {
          "output_type": "stream",
          "name": "stdout",
          "text": [
            "Step 0: loss = 1.5041602849960327\n",
            "Step 1000: loss = 0.6629940867424011\n",
            "Step 2000: loss = 0.4870884418487549\n",
            "Step 3000: loss = 0.3275620937347412\n",
            "Step 4000: loss = 0.21397840976715088\n",
            "Step 5000: loss = 0.1664881706237793\n",
            "Step 6000: loss = 0.142796590924263\n",
            "Step 7000: loss = 0.1295752078294754\n",
            "Step 8000: loss = 0.12109563499689102\n",
            "Step 9000: loss = 0.11481686681509018\n",
            "Step 10000: loss = 0.10961363464593887\n",
            "Step 11000: loss = 0.1049644872546196\n",
            "Step 12000: loss = 0.10060013085603714\n",
            "Step 13000: loss = 0.09635215997695923\n",
            "Step 14000: loss = 0.0920858383178711\n",
            "Step 15000: loss = 0.0876724123954773\n",
            "Step 16000: loss = 0.08298096060752869\n",
            "Step 17000: loss = 0.07788305729627609\n",
            "Step 18000: loss = 0.07226879894733429\n",
            "Step 19000: loss = 0.06607133150100708\n",
            "Step 20000: loss = 0.05930059030652046\n",
            "Step 21000: loss = 0.052077516913414\n",
            "Step 22000: loss = 0.04464726895093918\n",
            "Step 23000: loss = 0.03734634444117546\n",
            "Step 24000: loss = 0.03052857145667076\n",
            "Step 25000: loss = 0.02448151633143425\n",
            "Step 26000: loss = 0.019372563809156418\n",
            "Step 27000: loss = 0.015238722786307335\n",
            "Step 28000: loss = 0.012013851664960384\n",
            "Step 29000: loss = 0.009571346454322338\n",
            "Step 30000: loss = 0.007763326168060303\n",
            "Step 31000: loss = 0.006447362247854471\n",
            "Step 32000: loss = 0.005500400438904762\n",
            "Step 33000: loss = 0.004823124501854181\n",
            "Step 34000: loss = 0.004339167382568121\n",
            "Step 35000: loss = 0.003991695120930672\n",
            "Step 36000: loss = 0.003739491105079651\n",
            "Step 37000: loss = 0.0035531565081328154\n",
            "Step 38000: loss = 0.0034121000207960606\n",
            "Step 39000: loss = 0.0033019911497831345\n",
            "Step 40000: loss = 0.0032129918690770864\n",
            "Step 41000: loss = 0.0031383666209876537\n",
            "Step 42000: loss = 0.0030735530890524387\n",
            "Step 43000: loss = 0.003015451831743121\n",
            "Step 44000: loss = 0.0029620418790727854\n",
            "Step 45000: loss = 0.0029118498787283897\n",
            "Step 46000: loss = 0.0028639950323849916\n",
            "Step 47000: loss = 0.0028179106302559376\n",
            "Step 48000: loss = 0.002773076994344592\n",
            "Step 49000: loss = 0.002729277592152357\n"
          ]
        },
        {
          "output_type": "display_data",
          "data": {
            "text/plain": [
              "<Figure size 432x288 with 1 Axes>"
            ],
            "image/png": "[encoded data removed]"
          },
          "metadata": {
            "needs_background": "light"
          }
        }
      ],
      "execution_count": null
    },
    {
      "cell_type": "markdown",
      "source": [
        "As expected, the above loss function decreases with more iterations. Now, let's see how well our neural network fit the data:"
      ],
      "metadata": {
        "tags": [],
        "cell_id": "8e9512650fcb44d3b95b8fe202609ff9",
        "deepnote_cell_type": "markdown",
        "id": "wuREBujfR-rY"
      }
    },
    {
      "cell_type": "code",
      "source": [
        "plt.scatter(X.numpy(), Y.numpy(), label='Training Data')\n",
        "plt.plot(X.numpy(), model(X).detach().numpy(), c='red', label='Prediction')\n",
        "plt.xlabel('$x$')\n",
        "plt.ylabel('$y$')\n",
        "plt.title('Neural Network Fit on Training Data')\n",
        "plt.legend()\n",
        "plt.show()"
      ],
      "metadata": {
        "tags": [],
        "cell_id": "f50d7216f0654d978dac05ac9c861ed2",
        "source_hash": "ce16c12c",
        "execution_start": 1674421790698,
        "execution_millis": 129,
        "deepnote_to_be_reexecuted": false,
        "deepnote_cell_type": "code",
        "id": "I5VeYCqQR-rY",
        "outputId": "03b807f8-ce44-459e-dbb5-7107592d816f",
        "colab": {
          "base_uri": "https://localhost:8080/",
          "height": 295
        }
      },
      "outputs": [
        {
          "output_type": "display_data",
          "data": {
            "text/plain": [
              "<Figure size 432x288 with 1 Axes>"
            ],
            "image/png": "[encoded data removed]"
          },
          "metadata": {
            "needs_background": "light"
          }
        }
      ],
      "execution_count": null
    },
    {
      "cell_type": "markdown",
      "source": [
        "**Note:** Since `model(X)` is a function of the `nn.Parameter` objects inside the `nn.Linear` objects, you'll need to detach it before you can convert it to numpy, as in the above code."
      ],
      "metadata": {
        "tags": [],
        "cell_id": "b933c77805184f82a169f7c7a3a0e63a",
        "deepnote_cell_type": "markdown",
        "id": "IahBhZ9hR-rZ"
      }
    },
    {
      "cell_type": "markdown",
      "source": [
        "#### Neural Network Classifier\n",
        "\n",
        "We'll now repeat the above process, but for classification. We'll start by creating our data-set:"
      ],
      "metadata": {
        "id": "--TTBIKXhx1U"
      }
    },
    {
      "cell_type": "code",
      "source": [
        "# Sample the data-set\n",
        "X, Y = sklearn.datasets.make_moons(n_samples=500, noise=0.1)\n",
        "\n",
        "# Plot the data\n",
        "plt.scatter(X[Y == 0][:, 0], X[Y == 0][:, 1], label='Class 0')\n",
        "plt.scatter(X[Y == 1][:, 0], X[Y == 1][:, 1], label='Class 1')\n",
        "plt.legend()\n",
        "plt.xlabel('$x_0$')\n",
        "plt.ylabel('$x_1$')\n",
        "plt.title('Training Data')\n",
        "plt.show()\n",
        "\n",
        "# Convert the data to PyTorch's tensors\n",
        "X = torch.tensor(X).float()\n",
        "Y = torch.tensor(Y).unsqueeze(-1).float()"
      ],
      "metadata": {
        "tags": [],
        "cell_id": "87514b418a2647e2b9ec54b0ec628015",
        "source_hash": "b623e53d",
        "execution_start": 1674421790826,
        "execution_millis": 2,
        "deepnote_to_be_reexecuted": false,
        "deepnote_cell_type": "code",
        "id": "9mHvNDxwR-rZ",
        "colab": {
          "base_uri": "https://localhost:8080/",
          "height": 297
        },
        "outputId": "b4737e5c-1ca1-43b8-cdaa-cb50d3a74870"
      },
      "outputs": [
        {
          "output_type": "display_data",
          "data": {
            "text/plain": [
              "<Figure size 432x288 with 1 Axes>"
            ],
            "image/png": "[encoded data removed]"
          },
          "metadata": {
            "needs_background": "light"
          }
        }
      ],
      "execution_count": null
    },
    {
      "cell_type": "markdown",
      "source": [
        "Now that we have our data-set, we'll define a classifier. This classifier object is identical to the above regressor object, with the exception of two things:\n",
        "1. The first layer expects 2 dimensions as input, since in this data-set, our $x$'s are 2-dimensional.\n",
        "2. The `forward` function requires an additional transform: the `sigmoid`. The sigmoid is a function that maps all real numbers to the interval $[0, 1]$. While in regression, $y$ can take on any real number, in binary classifiaction, $y$ can be either $0$ or $1$. We therefore use the sigmoid to output the *probability* that $y$ is $1$. "
      ],
      "metadata": {
        "id": "eSunWEson4C6"
      }
    },
    {
      "cell_type": "code",
      "source": [
        "class NeuralNetworkBinaryClassifier(nn.Module):\n",
        "    def __init__(self):\n",
        "        '''\n",
        "        Creates a neural network with 2 hidden layers, each 20 units in size.\n",
        "        It does this by creating the three linear transform that will be used.\n",
        "        Each one of the nn.Linear objects below will automatically create the nn.Parameter objects\n",
        "        necessary for the linear transform.\n",
        "        '''\n",
        "        super(NeuralNetworkBinaryClassifier, self).__init__()\n",
        "\n",
        "        \n",
        "        self.layer1 = nn.Linear(2, 20) \n",
        "        self.layer2 = nn.Linear(20, 20) \n",
        "        self.layer3 = nn.Linear(20, 1) \n",
        "\n",
        "    def forward(self, x):\n",
        "        '''\n",
        "        Interleave the linear transforms with an activation function (in this case, tanh)\n",
        "        '''\n",
        "        h1 = torch.tanh(self.layer1(x))\n",
        "        h2 = torch.tanh(self.layer2(h1))\n",
        "        h3 = self.layer3(h2)\n",
        "\n",
        "        # In contrast to the NeuralNetworkRegressor, we take 'h3' and feed it through a \n",
        "        # \"sigmoid\" transform, to make sure the output is a probability between 0 and 1\n",
        "        return torch.sigmoid(h3)\n",
        "\n",
        "\n",
        "# By creating and printing the model, we can see what nn.Parameter objects were created for it:\n",
        "model = NeuralNetworkBinaryClassifier()\n",
        "print(model)"
      ],
      "metadata": {
        "colab": {
          "base_uri": "https://localhost:8080/"
        },
        "id": "A4TeRAmXiSgj",
        "outputId": "4a5ab7de-8f92-4eb3-e410-b0a12214c1c9"
      },
      "execution_count": null,
      "outputs": [
        {
          "output_type": "stream",
          "name": "stdout",
          "text": [
            "NeuralNetworkBinaryClassifier(\n",
            "  (layer1): Linear(in_features=2, out_features=20, bias=True)\n",
            "  (layer2): Linear(in_features=20, out_features=20, bias=True)\n",
            "  (layer3): Linear(in_features=20, out_features=1, bias=True)\n",
            ")\n"
          ]
        }
      ]
    },
    {
      "cell_type": "markdown",
      "source": [
        "Once we have the model, we define our loss and write the optimization loop. In contrast to the above example, in which we defined our own loss function, in this case we'll use one of PyTorch's defaults. Specifically, we'll use the `BCELoss` object to create the \"Binary Cross Entropy\" loss, which is the standard loss function used for binary classification."
      ],
      "metadata": {
        "id": "W_UKeC8Qotqu"
      }
    },
    {
      "cell_type": "code",
      "source": [
        "loss_fn = nn.BCELoss()\n",
        "\n",
        "model = NeuralNetworkBinaryClassifier()\n",
        "\n",
        "# We create an optimizer, SGD (stochastic gradient descent)\n",
        "# We tell it to optimize the loss function relative to the model's parameters\n",
        "optimizer = optim.SGD(model.parameters(), lr=0.005)\n",
        "\n",
        "history = []\n",
        "for step in range(50000):\n",
        "    # We zero out any gradients that may have been previously computed relative to W\n",
        "    optimizer.zero_grad()\n",
        "\n",
        "    # We call our loss function\n",
        "    Y_pred = model.forward(X)\n",
        "    loss = loss_fn(Y_pred, Y)\n",
        "\n",
        "    history.append(loss.item())\n",
        "\n",
        "    # We print the loss every 1000th iteration\n",
        "    if step % 1000 == 0:\n",
        "        print('Step {}: loss = {}'.format(step, loss.item()))\n",
        "\n",
        "    # We compute gradients of the loss function, f, relative to W\n",
        "    loss.backward()\n",
        "\n",
        "    # We take a single step in the direction that minimizes the loss\n",
        "    optimizer.step()\n",
        "\n",
        "plt.plot(np.arange(len(history)), history)\n",
        "plt.xlabel('Step')\n",
        "plt.ylabel('Loss')\n",
        "plt.title('Loss vs. training step')\n",
        "plt.show()"
      ],
      "metadata": {
        "colab": {
          "base_uri": "https://localhost:8080/",
          "height": 1000
        },
        "id": "YUr59_QFkERF",
        "outputId": "c83119cf-c631-483d-85f5-9b0a2df31454"
      },
      "execution_count": null,
      "outputs": [
        {
          "output_type": "stream",
          "name": "stdout",
          "text": [
            "Step 0: loss = 0.6620727777481079\n",
            "Step 1000: loss = 0.3501853942871094\n",
            "Step 2000: loss = 0.28642722964286804\n",
            "Step 3000: loss = 0.26642563939094543\n",
            "Step 4000: loss = 0.25754502415657043\n",
            "Step 5000: loss = 0.2494887262582779\n",
            "Step 6000: loss = 0.23925143480300903\n",
            "Step 7000: loss = 0.22522862255573273\n",
            "Step 8000: loss = 0.2060891091823578\n",
            "Step 9000: loss = 0.18134528398513794\n",
            "Step 10000: loss = 0.15250921249389648\n",
            "Step 11000: loss = 0.12326869368553162\n",
            "Step 12000: loss = 0.09757544845342636\n",
            "Step 13000: loss = 0.07735297828912735\n",
            "Step 14000: loss = 0.06232604384422302\n",
            "Step 15000: loss = 0.051307305693626404\n",
            "Step 16000: loss = 0.04313691332936287\n",
            "Step 17000: loss = 0.03695226460695267\n",
            "Step 18000: loss = 0.0321640819311142\n",
            "Step 19000: loss = 0.028376907110214233\n",
            "Step 20000: loss = 0.02532312087714672\n",
            "Step 21000: loss = 0.022818319499492645\n",
            "Step 22000: loss = 0.020732790231704712\n",
            "Step 23000: loss = 0.018973372876644135\n",
            "Step 24000: loss = 0.017471738159656525\n",
            "Step 25000: loss = 0.016176970675587654\n",
            "Step 26000: loss = 0.015050356276333332\n",
            "Step 27000: loss = 0.014062070287764072\n",
            "Step 28000: loss = 0.013188835233449936\n",
            "Step 29000: loss = 0.012412157841026783\n",
            "Step 30000: loss = 0.011717305518686771\n",
            "Step 31000: loss = 0.011092268861830235\n",
            "Step 32000: loss = 0.010527296923100948\n",
            "Step 33000: loss = 0.010014335624873638\n",
            "Step 34000: loss = 0.009546676650643349\n",
            "Step 35000: loss = 0.009118696674704552\n",
            "Step 36000: loss = 0.008725649677217007\n",
            "Step 37000: loss = 0.008363540284335613\n",
            "Step 38000: loss = 0.008028925396502018\n",
            "Step 39000: loss = 0.007718851789832115\n",
            "Step 40000: loss = 0.0074307178147137165\n",
            "Step 41000: loss = 0.007162387948483229\n",
            "Step 42000: loss = 0.006911923177540302\n",
            "Step 43000: loss = 0.006677605677396059\n",
            "Step 44000: loss = 0.006457883398979902\n",
            "Step 45000: loss = 0.006251554470509291\n",
            "Step 46000: loss = 0.00605746591463685\n",
            "Step 47000: loss = 0.005874556954950094\n",
            "Step 48000: loss = 0.005701853893697262\n",
            "Step 49000: loss = 0.005538595374673605\n"
          ]
        },
        {
          "output_type": "display_data",
          "data": {
            "text/plain": [
              "<Figure size 432x288 with 1 Axes>"
            ],
            "image/png": "[encoded data removed]"
          },
          "metadata": {
            "needs_background": "light"
          }
        }
      ]
    },
    {
      "cell_type": "markdown",
      "source": [
        "Lastly, we visualize the fit of our classifier on the data-set."
      ],
      "metadata": {
        "id": "93EJD-Dio-4P"
      }
    },
    {
      "cell_type": "code",
      "source": [
        "@torch.no_grad()\n",
        "def plot_decision_boundary(model, X, y):\n",
        "    '''\n",
        "    Adapted from: https://medium.com/@prudhvirajnitjsr/simple-classifier-using-pytorch-37fba175c25c\n",
        "    '''\n",
        "\n",
        "    # Set min and max values and give it some padding\n",
        "    x_min, x_max = X[:, 0].min() - 0.5, X[:, 0].max() + 0.5\n",
        "    y_min, y_max = X[:, 1].min() - 0.5, X[:, 1].max() + 0.5\n",
        "    h = 0.01\n",
        "\n",
        "    # Generate a grid of points with distance h between them\n",
        "    xx, yy = np.meshgrid(np.arange(x_min, x_max, h), np.arange(y_min, y_max, h))\n",
        "\n",
        "    # Predict the function value for the whole gid\n",
        "    Z = model(torch.tensor(np.c_[xx.ravel(), yy.ravel()]).float()).numpy()\n",
        "    Z = Z.reshape(xx.shape)\n",
        "\n",
        "    # Plot the contour and training examples\n",
        "    plt.contourf(xx, yy, Z)\n",
        "    plt.scatter(X[y.squeeze() == 0][:, 0], X[y.squeeze() == 0][:, 1], label='Class 0 (Training Data)')\n",
        "    plt.scatter(X[y.squeeze() == 1][:, 0], X[y.squeeze() == 1][:, 1], label='Class 1 (Training Data)')\n",
        "\n",
        "    plt.xlabel('$x_0$')\n",
        "    plt.ylabel('$x_1$')\n",
        "    plt.title('Fit of Classifier on Training Data')\n",
        "\n",
        "    plt.legend()\n",
        "    plt.show()\n",
        "\n",
        "plot_decision_boundary(model, X, Y)"
      ],
      "metadata": {
        "colab": {
          "base_uri": "https://localhost:8080/",
          "height": 297
        },
        "id": "Xzpm0y4ZkfZd",
        "outputId": "beb45a7e-89be-43c1-bd84-124a7251ec66"
      },
      "execution_count": null,
      "outputs": [
        {
          "output_type": "display_data",
          "data": {
            "text/plain": [
              "<Figure size 432x288 with 1 Axes>"
            ],
            "image/png": "[encoded data removed]"
          },
          "metadata": {
            "needs_background": "light"
          }
        }
      ]
    },
    {
      "cell_type": "code",
      "source": [],
      "metadata": {
        "id": "rHWrpmwNllA7"
      },
      "execution_count": null,
      "outputs": []
    }
  ],
  "nbformat": 4,
  "nbformat_minor": 0,
  "metadata": {
    "deepnote": {},
    "orig_nbformat": 2,
    "deepnote_notebook_id": "9b16877be9c747db98db80faa77a13f8",
    "deepnote_persisted_session": {
      "createdAt": "2023-01-22T21:31:51.532Z"
    },
    "deepnote_execution_queue": [],
    "colab": {
      "provenance": [],
      "include_colab_link": true
    },
    "language_info": {
      "name": "python"
    },
    "kernelspec": {
      "name": "python3",
      "display_name": "Python 3"
    },
    "gpuClass": "standard"
  }
}